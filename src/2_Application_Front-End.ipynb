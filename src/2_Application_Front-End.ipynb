{
 "cells": [
  {
   "cell_type": "code",
   "execution_count": 6,
   "metadata": {},
   "outputs": [],
   "source": [
    "import mysql.connector as mariadb\n",
    "import pandas as pd"
   ]
  },
  {
   "cell_type": "code",
   "execution_count": 7,
   "metadata": {},
   "outputs": [
    {
     "name": "stdout",
     "output_type": "stream",
     "text": [
      "Connected to MariaDb Database...\n"
     ]
    }
   ],
   "source": [
    "dbConnection = mariadb.connect(host=\"localhost\",user=\"root\",password=\"password\",database=\"creditcard_capstone\")\n",
    "print(\"Connected to MariaDb Database...\")"
   ]
  },
  {
   "cell_type": "code",
   "execution_count": 8,
   "metadata": {},
   "outputs": [],
   "source": [
    "cursor = dbConnection.cursor()"
   ]
  },
  {
   "attachments": {},
   "cell_type": "markdown",
   "metadata": {},
   "source": [
    "2.1 Transaction Details Module"
   ]
  },
  {
   "cell_type": "code",
   "execution_count": 74,
   "metadata": {},
   "outputs": [],
   "source": [
    "# 1. Display the transactions made by customers living in a given zip code for a given month \n",
    "# and year. Order by day in descending order.\n",
    "\n",
    "def getTransactionsForCustomersByZipCodeAndDate(zipcode, month, year):\n",
    "\n",
    "    sqlStatement = \"SELECT tran.* FROM cdw_sapp_credit_card tran \\\n",
    "        INNER JOIN cdw_sapp_customer cust \\\n",
    "            ON cust.SSN = tran.CUST_SSN \\\n",
    "        WHERE cust.CUST_ZIP = '{}' \\\n",
    "            AND MONTH(STR_TO_DATE(tran.TIMEID, '%Y%m%d')) = {} \\\n",
    "            AND YEAR(STR_TO_DATE(tran.TIMEID, '%Y%m%d')) = {} \\\n",
    "        ORDER BY DAY(STR_TO_DATE(tran.TIMEID, '%Y%m%d')) DESC\"\n",
    "\n",
    "    cursor.execute(sqlStatement.format(zipcode, month, year))\n",
    "\n",
    "    result = cursor.fetchall()\n",
    "    print(result)"
   ]
  },
  {
   "cell_type": "code",
   "execution_count": null,
   "metadata": {},
   "outputs": [],
   "source": [
    "zipcode = input(\"Enter a zipcode: \")\n",
    "year = input(\"Enter the year for which you would like the transaction records: \")\n",
    "month = input(\"Enter the month for which you would like the transaction records in a numberic format (1-12):\")\n",
    "getTransactionsForCustomersByZipCodeAndDate(zipcode, month, year)"
   ]
  },
  {
   "cell_type": "code",
   "execution_count": 29,
   "metadata": {},
   "outputs": [],
   "source": [
    "# 2. Display the number and total values of transactions for a given type. \n",
    "\n",
    "def getNumberAndTotalValueOfTransactionsByType(transaction_type):\n",
    "\n",
    "    sqlStatement1 = \"SELECT TRANSACTION_TYPE, COUNT(TRANSACTION_TYPE) AS NUMBER_OF_TRANSACTIONS, \\\n",
    "        round(SUM(TRANSACTION_VALUE),2) AS TOTAL_VALUE_OF_TRANSACTIONS \\\n",
    "            FROM cdw_sapp_credit_card tran \\\n",
    "        WHERE TRANSACTION_TYPE = '{}'\"\n",
    "\n",
    "    cursor.execute(sqlStatement1.format(transaction_type))\n",
    "\n",
    "    result1 = cursor.fetchall()\n",
    "    print(result1)"
   ]
  },
  {
   "cell_type": "code",
   "execution_count": 30,
   "metadata": {},
   "outputs": [
    {
     "name": "stdout",
     "output_type": "stream",
     "text": [
      "[('Grocery', 13098, 674103.26)]\n"
     ]
    }
   ],
   "source": [
    "transaction_type = input(\"Enter a transaction_type: \")\n",
    "getNumberAndTotalValueOfTransactionsByType(transaction_type)"
   ]
  },
  {
   "cell_type": "code",
   "execution_count": 79,
   "metadata": {},
   "outputs": [],
   "source": [
    "# 3. Display the total number and total values of transactions for branches in a given state.\n",
    "\n",
    "def getTotalNumberAndTotalValueOfTransactionsByState(state):\n",
    "\n",
    "    sqlStatement2 = \"SELECT tran.TRANSACTION_TYPE, \\\n",
    "        COUNT(tran.TRANSACTION_TYPE) AS NUMBER_OF_TRANSACTIONS, \\\n",
    "        round(SUM(tran.TRANSACTION_VALUE),1) AS TOTAL_VALUE_OF_TRANSACTIONS \\\n",
    "            FROM cdw_sapp_credit_card tran \\\n",
    "        INNER JOIN cdw_sapp_branch branch \\\n",
    "            ON tran.BRANCH_CODE = branch.BRANCH_CODE \\\n",
    "        WHERE branch.BRANCH_STATE = '{}' \\\n",
    "        GROUP BY tran.TRANSACTION_TYPE\"\n",
    "    \n",
    "    cursor.execute(sqlStatement2.format(state))\n",
    "\n",
    "    result2 = cursor.fetchall()\n",
    "    print(result2)"
   ]
  },
  {
   "cell_type": "code",
   "execution_count": 80,
   "metadata": {},
   "outputs": [
    {
     "name": "stdout",
     "output_type": "stream",
     "text": [
      "[('Bills', 2288, 121599.4), ('Education', 2332, 119299.8), ('Entertainment', 2376, 120061.8), ('Gas', 2192, 111937.8), ('Grocery', 2528, 127127.5), ('Healthcare', 2292, 116796.8), ('Test', 2416, 123661.0)]\n"
     ]
    }
   ],
   "source": [
    "state = input(\"Enter a State(for example CA, TX, FL, etc): \")\n",
    "getTotalNumberAndTotalValueOfTransactionsByState(state)"
   ]
  },
  {
   "attachments": {},
   "cell_type": "markdown",
   "metadata": {},
   "source": [
    "2.2 Customer Details Module"
   ]
  },
  {
   "cell_type": "code",
   "execution_count": 3,
   "metadata": {},
   "outputs": [],
   "source": [
    "# 1. Check the existing account details of a customer.\n",
    "\n",
    "def getAccountDetailsOfCustomer(first_name, last_name, last_4_digits_SSN):\n",
    "    sqlStatement3 = \"SELECT FIRST_NAME, LAST_NAME, RIGHT(SSN,4) AS LAST_4_digits_of_SSN \\\n",
    "        FROM cdw_sapp_customer \\\n",
    "        WHERE FIRST_NAME = '{}' AND LAST_NAME = '{}' AND RIGHT(SSN,4) = '{}' \\\n",
    "        GROUP BY CONCAT(FIRST_NAME, ' ', LAST_NAME)\"\n",
    "    \n",
    "    cursor.execute(sqlStatement3.format(first_name, last_name, last_4_digits_SSN))\n",
    "\n",
    "    result3 = cursor.fetchall()\n",
    "    print(result3)"
   ]
  },
  {
   "cell_type": "code",
   "execution_count": 9,
   "metadata": {},
   "outputs": [
    {
     "name": "stdout",
     "output_type": "stream",
     "text": [
      "[('Janelle', 'Stone', '3191')]\n"
     ]
    }
   ],
   "source": [
    "first_name = input(\"Enter First Name: \")\n",
    "last_name = input(\"Enter Last Name: \")\n",
    "last_4_digits_SSN = input(\"Enter last 4 digits of SSN: \")\n",
    "getAccountDetailsOfCustomer(first_name, last_name, last_4_digits_SSN)"
   ]
  },
  {
   "cell_type": "code",
   "execution_count": 22,
   "metadata": {},
   "outputs": [],
   "source": [
    "# 2. Modify the existing account details of a customer.\n",
    "\n",
    "def getCustomerAccountDetailsChanged(first_name, last_4_digits_SSN, middle_name):\n",
    "    sqlStatement4 = \"UPDATE cdw_sapp_customer \\\n",
    "        SET MIDDLE_NAME = '{}' \\\n",
    "        WHERE FIRST_NAME = '{}' AND RIGHT(SSN, 4) = '{}'\"\n",
    "\n",
    "    resultSql = \"SELECT * FROM cdw_sapp_customer \\\n",
    "        WHERE FIRST_NAME = '{}' AND RIGHT(SSN, 4) = '{}'\"\n",
    "    \n",
    "    cursor.execute(sqlStatement4.format(middle_name, first_name, last_4_digits_SSN))\n",
    "    cursor.execute(resultSql.format(first_name, last_4_digits_SSN))\n",
    "\n",
    "    result4 = cursor.fetchall()\n",
    "    print(result4)"
   ]
  },
  {
   "cell_type": "code",
   "execution_count": 23,
   "metadata": {},
   "outputs": [
    {
     "name": "stdout",
     "output_type": "stream",
     "text": [
      "[('4210653316211933', 'Andover', 'United States', 'JStone@example.com', '(682)123-7809', 'MA', '01810', 'Janelle', 'Stone', '2018-04-21T12:49:02.000-04:00', 'claudia', 123453191, 'Virginia Street,701')]\n"
     ]
    }
   ],
   "source": [
    "first_name = input(\"Enter First Name: \")\n",
    "last_4_digits_SSN = input(\"Enter last 4 digits of SSN: \")\n",
    "middle_name = input(\"Enter New Middle Name: \")\n",
    "getCustomerAccountDetailsChanged(first_name, last_4_digits_SSN, middle_name)"
   ]
  },
  {
   "cell_type": "code",
   "execution_count": 81,
   "metadata": {},
   "outputs": [],
   "source": [
    "# 3. Generate a monthly bill for a credit card number for a given month and year.\n",
    "\n",
    "def getMonthlyBillForCreditCardBYMonthAndYear(month, year):\n",
    "    \n",
    "    sqlStatement5 = \"SELECT CREDIT_CARD_NO, ROUND(SUM(TRANSACTION_VALUE),2) AS \\\n",
    "        TOTAL_TRANSACTION \\\n",
    "            FROM cdw_sapp_credit_card \\\n",
    "            WHERE MONTH(STR_TO_DATE(TIMEID, '%Y%m%d')) = '{}' \\\n",
    "                AND YEAR(STR_TO_DATE(TIMEID, '%Y%m%d')) = '{}' \\\n",
    "            GROUP BY CREDIT_CARD_NO\"\n",
    "    \n",
    "    cursor.execute(sqlStatement5.format(month, year))\n",
    "\n",
    "    result5 = cursor.fetchall()\n",
    "    print(result5)"
   ]
  },
  {
   "cell_type": "code",
   "execution_count": null,
   "metadata": {},
   "outputs": [],
   "source": [
    "month = input(\"Enter the month for which you would like the transaction records in a numberic format (1-12):\")\n",
    "year = input(\"Enter the year for which you would like the transaction records: \")\n",
    "getMonthlyBillForCreditCardBYMonthAndYear(month, year)"
   ]
  },
  {
   "cell_type": "code",
   "execution_count": 83,
   "metadata": {},
   "outputs": [],
   "source": [
    "# 4. Display the transactions made by a customer between two dates. \n",
    "# Order by year, month, and day in descending order.\n",
    "\n",
    "def getTransactionsByCustomerForTwoDates(date1, date2, SSN):\n",
    "\n",
    "\tsqlStatement6 = \"SELECT DISTINCT tran.TRANSACTION_ID, tran.TRANSACTION_VALUE, \\\n",
    "\t\tcust.FIRST_NAME, cust.LAST_NAME FROM cdw_sapp_credit_card tran \\\n",
    "\t\t\tINNER JOIN cdw_sapp_customer cust \\\n",
    "\t\t\t\tON cust.SSN = tran.CUST_SSN \\\n",
    "\t\t\tWHERE (tran.TIMEID BETWEEN '{}' AND '{}') AND tran.Cust_SSN = {} \\\n",
    "\t\t\t\tORDER BY YEAR(STR_TO_DATE(tran.TIMEID, '%Y%m%d')) DESC, \\\n",
    "\t\t\t\t\t\tMONTH(STR_TO_DATE(tran.TIMEID, '%Y%m%d')) DESC, \\\n",
    "\t\t\t\t\t\tDAY(STR_TO_DATE(tran.TIMEID, '%Y%m%d')) DESC\"\n",
    "\t\n",
    "\tcursor.execute(sqlStatement6.format(date1, date2, SSN))\n",
    "\t\n",
    "\tresult5 = cursor.fetchall()\n",
    "\tprint(result5)"
   ]
  },
  {
   "cell_type": "code",
   "execution_count": 84,
   "metadata": {},
   "outputs": [
    {
     "name": "stdout",
     "output_type": "stream",
     "text": [
      "[(22598, 59.59, 'Harrison', 'King'), (22587, 86.78, 'Harrison', 'King'), (22612, 89.17, 'Harrison', 'King')]\n"
     ]
    }
   ],
   "source": [
    "date1 = input(\"Please enter first date (example:20180824): \")\n",
    "date2 = input(\"Please enter second date (example:20180824): \")\n",
    "SSN = input(\"Please enter Customer SSN: \")\n",
    "getTransactionsByCustomerForTwoDates(date1, date2, SSN)"
   ]
  }
 ],
 "metadata": {
  "kernelspec": {
   "display_name": "Python 3",
   "language": "python",
   "name": "python3"
  },
  "language_info": {
   "codemirror_mode": {
    "name": "ipython",
    "version": 3
   },
   "file_extension": ".py",
   "mimetype": "text/x-python",
   "name": "python",
   "nbconvert_exporter": "python",
   "pygments_lexer": "ipython3",
   "version": "3.10.9"
  },
  "orig_nbformat": 4,
  "vscode": {
   "interpreter": {
    "hash": "9bcaac30b044cc0682170415be85d523e7e3756c013a2bb4ce2ab93caa5ea8a4"
   }
  }
 },
 "nbformat": 4,
 "nbformat_minor": 2
}
