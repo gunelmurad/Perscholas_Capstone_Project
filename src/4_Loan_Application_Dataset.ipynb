{
 "cells": [
  {
   "cell_type": "code",
   "execution_count": 3,
   "metadata": {},
   "outputs": [],
   "source": [
    "import requests\n",
    "from pyspark.sql import SparkSession\n",
    "from pyspark.sql.functions import*\n",
    "import pandas as pd"
   ]
  },
  {
   "attachments": {},
   "cell_type": "markdown",
   "metadata": {},
   "source": [
    "4. Functional Requirements - LOAN Application Dataset"
   ]
  },
  {
   "cell_type": "code",
   "execution_count": 4,
   "metadata": {},
   "outputs": [
    {
     "name": "stdout",
     "output_type": "stream",
     "text": [
      "<Response [200]>\n"
     ]
    }
   ],
   "source": [
    "url = \"https://raw.githubusercontent.com/platformps/LoanDataset/main/loan_data.json\"\n",
    "response= requests.get(url)\n",
    "r=response.json()\n",
    "print(response)"
   ]
  },
  {
   "cell_type": "code",
   "execution_count": 5,
   "metadata": {},
   "outputs": [
    {
     "name": "stdout",
     "output_type": "stream",
     "text": [
      "  Application_ID Gender Married Dependents     Education Self_Employed  \\\n",
      "0       LP001002   Male      No          0      Graduate            No   \n",
      "1       LP001003   Male     Yes          1      Graduate            No   \n",
      "2       LP001005   Male     Yes          0      Graduate           Yes   \n",
      "3       LP001006   Male     Yes          0  Not Graduate            No   \n",
      "4       LP001008   Male      No          0      Graduate            No   \n",
      "\n",
      "   Credit_History Property_Area  Income Application_Status  \n",
      "0               1         Urban  medium                  Y  \n",
      "1               1         Rural  medium                  N  \n",
      "2               1         Urban     low                  Y  \n",
      "3               1         Urban     low                  Y  \n",
      "4               1         Urban  medium                  Y  \n"
     ]
    }
   ],
   "source": [
    "df_loan=pd.DataFrame(response.json())\n",
    "print(df_loan.head())"
   ]
  },
  {
   "cell_type": "code",
   "execution_count": 6,
   "metadata": {},
   "outputs": [
    {
     "name": "stderr",
     "output_type": "stream",
     "text": [
      "c:\\Users\\Learner_XZHCG230\\AppData\\Local\\Programs\\Python\\Python310\\lib\\site-packages\\pyspark\\sql\\pandas\\conversion.py:474: FutureWarning: iteritems is deprecated and will be removed in a future version. Use .items instead.\n",
      "  for column, series in pdf.iteritems():\n",
      "c:\\Users\\Learner_XZHCG230\\AppData\\Local\\Programs\\Python\\Python310\\lib\\site-packages\\pyspark\\sql\\pandas\\conversion.py:486: FutureWarning: iteritems is deprecated and will be removed in a future version. Use .items instead.\n",
      "  for column, series in pdf.iteritems():\n"
     ]
    }
   ],
   "source": [
    "spark = SparkSession.builder.appName('Loan Application').getOrCreate()\n",
    "spark_df_loan = spark.createDataFrame(df_loan)"
   ]
  },
  {
   "cell_type": "code",
   "execution_count": 18,
   "metadata": {},
   "outputs": [],
   "source": [
    "spark_df_loan.write.format(\"jdbc\") \\\n",
    "    .mode(\"append\") \\\n",
    "    .option(\"url\", \"jdbc:mysql://localhost:3306/creditcard_capstone\") \\\n",
    "    .option(\"dbtable\", \"creditcard_capstone.CDW_SAPP_loan_application\") \\\n",
    "    .option(\"user\", \"root\") \\\n",
    "    .option(\"password\", \"password\") \\\n",
    "    .save()"
   ]
  }
 ],
 "metadata": {
  "kernelspec": {
   "display_name": "Python 3",
   "language": "python",
   "name": "python3"
  },
  "language_info": {
   "codemirror_mode": {
    "name": "ipython",
    "version": 3
   },
   "file_extension": ".py",
   "mimetype": "text/x-python",
   "name": "python",
   "nbconvert_exporter": "python",
   "pygments_lexer": "ipython3",
   "version": "3.10.9"
  },
  "orig_nbformat": 4,
  "vscode": {
   "interpreter": {
    "hash": "9bcaac30b044cc0682170415be85d523e7e3756c013a2bb4ce2ab93caa5ea8a4"
   }
  }
 },
 "nbformat": 4,
 "nbformat_minor": 2
}
